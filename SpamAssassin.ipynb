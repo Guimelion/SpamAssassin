{
 "cells": [
  {
   "cell_type": "code",
   "execution_count": 1,
   "id": "3ba41aec",
   "metadata": {},
   "outputs": [],
   "source": [
    "import os\n",
    "import tarfile\n",
    "import urllib.request\n",
    "\n",
    "URL_HAM = 'https://spamassassin.apache.org/old/publiccorpus/20030228_easy_ham.tar.bz2'\n",
    "URL_SPAM = 'https://spamassassin.apache.org/old/publiccorpus/20030228_spam.tar.bz2'\n",
    "path = 'datasets\\\\spam'\n",
    "\n",
    "def construct_path(PATH,url_ham,url_spam):\n",
    "    if not os.path.exists(PATH):\n",
    "        os.makedirs(PATH)\n",
    "    for file_name,url in (('_ham.tar.bz2',url_ham),(\"_spam.tar.bz2\",url_spam)):\n",
    "        file_path = os.path.join(PATH,file_name)\n",
    "        if not os.path.isfile(file_path):\n",
    "            urllib.request.urlretrieve(url,file_path)\n",
    "        tar_bz2_file = tarfile.open(file_path)\n",
    "        tar_bz2_file.extractall(path=path)#extrai todos os arquivos do mesmo diretorio\n",
    "        tar_bz2_file.close()"
   ]
  },
  {
   "cell_type": "code",
   "execution_count": 2,
   "id": "eb32ab4f",
   "metadata": {},
   "outputs": [],
   "source": [
    "construct_path(path,URL_HAM,URL_SPAM)"
   ]
  },
  {
   "cell_type": "code",
   "execution_count": 3,
   "id": "5b6a3a7d",
   "metadata": {},
   "outputs": [],
   "source": [
    "HAM_DIR = os.path.join(path, \"easy_ham\")\n",
    "SPAM_DIR = os.path.join(path, \"spam\")\n",
    "ham_filenames = [name for name in sorted(os.listdir(HAM_DIR)) ][:-1]\n",
    "spam_filenames = [name for name in sorted(os.listdir(SPAM_DIR)) ][:-1]"
   ]
  },
  {
   "cell_type": "code",
   "execution_count": 4,
   "id": "c0852fe1",
   "metadata": {},
   "outputs": [
    {
     "data": {
      "text/plain": [
       "500"
      ]
     },
     "execution_count": 4,
     "metadata": {},
     "output_type": "execute_result"
    }
   ],
   "source": [
    "len(spam_filenames)"
   ]
  },
  {
   "cell_type": "code",
   "execution_count": 5,
   "id": "2e3a8f8a",
   "metadata": {},
   "outputs": [],
   "source": [
    "from email.parser import BytesParser, Parser\n",
    "from email.policy import default\n",
    "\n",
    "def open_files(name,dire):\n",
    "    with open(os.path.join(dire,name),'rb') as fp:\n",
    "        headers = BytesParser(policy=default).parse(fp)\n",
    "    return headers"
   ]
  },
  {
   "cell_type": "code",
   "execution_count": 6,
   "id": "d48beba4",
   "metadata": {},
   "outputs": [],
   "source": [
    "ham_emails = [open_files(name,HAM_DIR) for name in ham_filenames]\n",
    "spam_emails = [open_files(name,SPAM_DIR) for name in spam_filenames]"
   ]
  },
  {
   "cell_type": "code",
   "execution_count": 7,
   "id": "706d7ac4",
   "metadata": {},
   "outputs": [
    {
     "name": "stdout",
     "output_type": "stream",
     "text": [
      "['Return-Path', 'Delivered-To', 'Received', 'Received', 'Received', 'Message-Id', 'Received', 'Date', 'From', 'To', 'Subject', 'X-Info', 'X-Info2', 'Mime-Version', 'Content-Type']\n",
      "['<OWNER-NOLIST-SGODAILY*JM**NETNOTEINC*-COM@SMTP1.ADMANMAIL.COM>', 'zzzz@localhost.spamassassin.taint.org', 'from localhost (localhost [127.0.0.1])\\tby phobos.labs.spamassassin.taint.org (Postfix) with ESMTP id 71CE443F9B\\tfor <zzzz@localhost>; Thu, 22 Aug 2002 13:28:19 -0400 (EDT)', 'from mail.webnote.net [193.120.211.219]\\tby localhost with POP3 (fetchmail-5.9.0)\\tfor zzzz@localhost (single-drop); Thu, 22 Aug 2002 18:28:19 +0100 (IST)', 'from TIPSMTP1.ADMANMAIL.COM (TIPSMTP1.ADMANMAIL.COM [209.216.124.212])\\tby webnote.net (8.9.3/8.9.3) with ESMTP id SAA05985\\tfor <JM@NETNOTEINC.COM>; Thu, 22 Aug 2002 18:27:56 +0100', '<200208221727.SAA05985@webnote.net>', 'from tiputil1 (10.2.0.30) by TIPSMTP1.ADMANMAIL.COM (LSMTP for Windows NT v1.1b) with SMTP id <123.000035F8@TIPSMTP1.ADMANMAIL.COM>; Thu, 22 Aug 2002 11:11:42 -0500', 'Thu, 22 Aug 2002 10:30:04 -0500', 'Great Offers <greatoffers@sendgreatoffers.com>', 'JM@NETNOTEINC.COM', 'Is Your Family Protected?', '134085', 'SGO', '1.0', 'text/html; charset=\"us-ascii\"']\n",
      "text/plain\n"
     ]
    }
   ],
   "source": [
    "print(spam_emails[7].keys())\n",
    "print(spam_emails[7].values())\n",
    "\n",
    "print(spam_emails[12].get_content_type())"
   ]
  },
  {
   "cell_type": "code",
   "execution_count": 9,
   "id": "8942a8e6",
   "metadata": {},
   "outputs": [
    {
     "data": {
      "text/plain": [
       "{'text/plain': 2408,\n",
       " 'multipart/signed': 68,\n",
       " 'multipart/alternative': 9,\n",
       " 'multipart/mixed': 10,\n",
       " 'multipart/related': 3,\n",
       " 'multipart/report': 2}"
      ]
     },
     "execution_count": 9,
     "metadata": {},
     "output_type": "execute_result"
    }
   ],
   "source": [
    "import matplotlib.pyplot as plt\n",
    "\n",
    "dct = {}\n",
    "\n",
    "for email_type in ham_emails:\n",
    "    dct[email_type.get_content_type()] = dct.get(email_type.get_content_type(),0)+1\n",
    "dct"
   ]
  },
  {
   "cell_type": "code",
   "execution_count": 10,
   "id": "c963ea92",
   "metadata": {},
   "outputs": [
    {
     "data": {
      "text/plain": [
       "{'text/html': 183,\n",
       " 'text/plain': 218,\n",
       " 'multipart/mixed': 43,\n",
       " 'multipart/alternative': 47,\n",
       " 'multipart/related': 9}"
      ]
     },
     "execution_count": 10,
     "metadata": {},
     "output_type": "execute_result"
    }
   ],
   "source": [
    "dct2 = {}\n",
    "for email_type in spam_emails:\n",
    "    dct2[email_type.get_content_type()] = dct2.get(email_type.get_content_type(),0)+1\n",
    "dct2"
   ]
  },
  {
   "cell_type": "code",
   "execution_count": 11,
   "id": "6a4573ae",
   "metadata": {},
   "outputs": [],
   "source": [
    "import pandas as pd\n",
    "\n",
    "def change(dictio):\n",
    "    soma = sum(dictio.values())\n",
    "    for key,value in zip(dictio.keys(),dictio.values()):\n",
    "        dictio[key] = dictio[key]/soma\n",
    "        \n",
    "change(dct)        \n",
    "change(dct2)"
   ]
  },
  {
   "cell_type": "code",
   "execution_count": 12,
   "id": "e73b0f97",
   "metadata": {},
   "outputs": [
    {
     "data": {
      "text/plain": [
       "<AxesSubplot:>"
      ]
     },
     "execution_count": 12,
     "metadata": {},
     "output_type": "execute_result"
    },
    {
     "data": {
      "image/png": "[encoded data removed]",
      "text/plain": [
       "<Figure size 720x432 with 1 Axes>"
      ]
     },
     "metadata": {
      "needs_background": "light"
     },
     "output_type": "display_data"
    }
   ],
   "source": [
    "Ham = pd.Series(dct)\n",
    "\n",
    "Spam = pd.Series(dct2)\n",
    "\n",
    "data = pd.DataFrame([Ham,Spam])\n",
    "data.index = ['HAM','SPAM']\n",
    "data.plot(kind='bar',stacked=True,figsize =(10,6))"
   ]
  },
  {
   "cell_type": "markdown",
   "id": "cbf59e76",
   "metadata": {},
   "source": [
    "Observa-se uma maior concentração de Text/plain e multipart/signed nos email tipo HAM\n",
    "E Text/html / Multipart/alternative / mixed"
   ]
  },
  {
   "cell_type": "code",
   "execution_count": 13,
   "id": "754c28bc",
   "metadata": {},
   "outputs": [],
   "source": [
    "import numpy as np\n",
    "from sklearn.model_selection import train_test_split\n",
    "\n",
    "X = np.array(ham_emails + spam_emails,dtype='object')\n",
    "y = np.array([0] * len(ham_emails) + [1] * len(spam_emails))\n",
    "\n",
    "X_train,X_test,y_train,y_test = train_test_split(X,y,test_size = 0.2,random_state =42)"
   ]
  },
  {
   "cell_type": "markdown",
   "id": "7392faaa",
   "metadata": {},
   "source": [
    "Função para remover a formatação do HTML"
   ]
  },
  {
   "cell_type": "code",
   "execution_count": 14,
   "id": "67556e2d",
   "metadata": {},
   "outputs": [],
   "source": [
    "import re\n",
    "\n",
    "regex = re.compile(r'<[^>]+>')\n",
    "def remove_html(string):\n",
    "    text = regex.sub('', string)\n",
    "    return text.replace('\\n','')"
   ]
  },
  {
   "cell_type": "markdown",
   "id": "40d05365",
   "metadata": {},
   "source": [
    "Eu construi uma função para pegar qualquer email e torná-lo uma string, como foi observado existem diversos tipos de emails como do tipo 'text/html', neste tipo usarei a função anterior para remover toda a formatação e retirar apenas o texto, e também existem outros tipos com partes diferentes ou 'multipart', destes eu tenho que realizar uma operação específica usando o método payload da biblioteca email."
   ]
  },
  {
   "cell_type": "code",
   "execution_count": 15,
   "id": "d6eb85f5",
   "metadata": {},
   "outputs": [],
   "source": [
    "def email_to_str(email):   \n",
    "        for part in email.walk():\n",
    "            try :\n",
    "                if part.get_content_type() == 'text/plain':\n",
    "                    cont = part.get_content()\n",
    "                    return cont\n",
    "                else:\n",
    "                    cont = remove_html(str(part.get_content()))                   \n",
    "                    return cont\n",
    "            except:\n",
    "                emails = part.get_payload()\n",
    "                try:\n",
    "                    for email in emails:\n",
    "                        if not type(email) == str:\n",
    "                            if email.get_content_type == 'text/plain':\n",
    "                                cont = email.get_content()\n",
    "                                return cont\n",
    "                            else:\n",
    "                                cont = remove_html(str(email.get_content()))\n",
    "                                return cont   \n",
    "                        else:\n",
    "\n",
    "                            return remove_html(emails)\n",
    "                except:\n",
    "                    pass"
   ]
  },
  {
   "cell_type": "code",
   "execution_count": 16,
   "id": "d34a2fab",
   "metadata": {},
   "outputs": [],
   "source": [
    "from nltk.stem import PorterStemmer\n",
    "def dct(email):\n",
    "    vocabulary =[]\n",
    "    ps = PorterStemmer()\n",
    "    word_count={}\n",
    "    for word in email.split():\n",
    "        word_count[ps.stem(word)] = word_count.get(ps.stem(word),0)+1\n",
    "        \n",
    "    return {key:value for key,value in sorted(word_count.items(),key = lambda x:x[1],reverse=True)}"
   ]
  },
  {
   "cell_type": "code",
   "execution_count": 18,
   "id": "b26378dd",
   "metadata": {},
   "outputs": [],
   "source": [
    "def remove_all(email):\n",
    "    urls =  re.findall(r'(https?://\\S+)',email)\n",
    "    punctuation= '''!()-[]{};:'\"\\, <>./?@#$%^&*_~'''\n",
    "    \n",
    "    for url in urls:\n",
    "        email = email.replace(url,'URL')#remove URL\n",
    "\n",
    "    for letter in email:#remove pontuação\n",
    "        if letter in punctuation:\n",
    "            email = email.replace(letter,' ')\n",
    "        \n",
    "    email = re.sub(r'\\d+(?:\\.\\d*)?(?:[eE][+-]?\\d+)?', 'NUMBER', email)\n",
    "    \n",
    "    \n",
    "    return email"
   ]
  },
  {
   "cell_type": "markdown",
   "id": "59626ae7",
   "metadata": {},
   "source": [
    "Vou criar uma função que criará uma matriz esparsa, está conterá em cada linha os emails e as palavras mais usadas de todos os emails e sua respectiva quantidade "
   ]
  },
  {
   "cell_type": "code",
   "execution_count": 19,
   "id": "3bdf07dd",
   "metadata": {},
   "outputs": [
    {
     "data": {
      "text/plain": [
       "array([[ 3,  0,  0, ...,  0,  0,  0],\n",
       "       [34,  0, 11, ...,  0,  0,  0],\n",
       "       [16,  1,  0, ...,  0,  0,  0],\n",
       "       ...,\n",
       "       [61, 26, 20, ...,  0,  0,  0],\n",
       "       [14,  6,  2, ...,  0,  0,  0],\n",
       "       [61, 25, 11, ...,  0,  0,  0]], dtype=int32)"
      ]
     },
     "execution_count": 19,
     "metadata": {},
     "output_type": "execute_result"
    }
   ],
   "source": [
    "from scipy.sparse import csr_matrix\n",
    "\n",
    "def Final_Transform(emails,largura):\n",
    "    X_train_transformed_ind = [str(email_to_str(email)) for email in emails]\n",
    "    X_train_transformed_ind_dic  = [dct(remove_all(email)) for email in X_train_transformed_ind]\n",
    "    X_train_transformed ='-'.join(X_train_transformed_ind)\n",
    "    tmu_words = dct(remove_all((X_train_transformed)))\n",
    "    vocabulary ={key:i+1 for i,key in enumerate(tmu_words.keys())}\n",
    "\n",
    "\n",
    "    colunas = []\n",
    "    dados = []\n",
    "    linhas = []\n",
    "\n",
    "    for i in range(len(X_train_transformed_ind_dic)):\n",
    "\n",
    "        for word in list(vocabulary)[:largura]:\n",
    "            colunas.append(vocabulary[word])\n",
    "\n",
    "            dados.append(X_train_transformed_ind_dic[i].get(word,0))\n",
    "\n",
    "    numb = 0\n",
    "    for num,dicio in enumerate(X_train_transformed_ind_dic):\n",
    "        contar = 0\n",
    "        for word in dicio:\n",
    "            if word not in list(vocabulary)[:largura]:\n",
    "                contar += 1\n",
    "        linhas.insert(0,numb)\n",
    "        numb+=1\n",
    "        dados.insert(0,contar)\n",
    "        colunas.insert(0,0)\n",
    "\n",
    "    for i in range(len(X_train_transformed_ind_dic)):    \n",
    "        for word in range(len(list(vocabulary)[:largura])):\n",
    "            linhas.append(i)\n",
    "\n",
    "    sparseMatrix = csr_matrix((dados, (linhas, colunas)), shape = (len(X_train_transformed_ind_dic),len(list(vocabulary)[:largura])+1))\n",
    "\n",
    "\n",
    "    return sparseMatrix\n",
    "X_train_transformed = Final_Transform(X_train,1000)"
   ]
  },
  {
   "cell_type": "markdown",
   "id": "c759ad38",
   "metadata": {},
   "source": [
    "Observe que na primeira coluna eu coloquei a quantidade palavras que não estão entre as mais usadas entre os emails, a função final_transform tem dois parametros os emails e a quantidade de palavras mais usadas que eu desejo que apareça no caso foram 1000 palavras mais usadas. "
   ]
  },
  {
   "cell_type": "code",
   "execution_count": 21,
   "id": "1a68d737",
   "metadata": {},
   "outputs": [
    {
     "data": {
      "text/plain": [
       "array([[ 3,  0,  0, ...,  0,  0,  0],\n",
       "       [34,  0, 11, ...,  0,  0,  0],\n",
       "       [16,  1,  0, ...,  0,  0,  0],\n",
       "       ...,\n",
       "       [61, 26, 20, ...,  0,  0,  0],\n",
       "       [14,  6,  2, ...,  0,  0,  0],\n",
       "       [61, 25, 11, ...,  0,  0,  0]], dtype=int32)"
      ]
     },
     "execution_count": 21,
     "metadata": {},
     "output_type": "execute_result"
    }
   ],
   "source": [
    "X_train_transformed.toarray()"
   ]
  },
  {
   "cell_type": "code",
   "execution_count": 20,
   "id": "d5a8ca77",
   "metadata": {},
   "outputs": [],
   "source": [
    "X_test_transform = Final_Transform(X_test,1000)"
   ]
  },
  {
   "cell_type": "code",
   "execution_count": 143,
   "id": "c1dbf6b1",
   "metadata": {},
   "outputs": [
    {
     "data": {
      "text/plain": [
       "<2400x1001 sparse matrix of type '<class 'numpy.intc'>'\n",
       "\twith 2402400 stored elements in Compressed Sparse Row format>"
      ]
     },
     "execution_count": 143,
     "metadata": {},
     "output_type": "execute_result"
    }
   ],
   "source": [
    "X_train_transformed"
   ]
  },
  {
   "cell_type": "code",
   "execution_count": 144,
   "id": "07f472c1",
   "metadata": {},
   "outputs": [
    {
     "data": {
      "text/plain": [
       "<600x1001 sparse matrix of type '<class 'numpy.intc'>'\n",
       "\twith 600600 stored elements in Compressed Sparse Row format>"
      ]
     },
     "execution_count": 144,
     "metadata": {},
     "output_type": "execute_result"
    }
   ],
   "source": [
    "X_test_transform"
   ]
  },
  {
   "cell_type": "code",
   "execution_count": 28,
   "id": "5e6c2c95",
   "metadata": {},
   "outputs": [
    {
     "name": "stderr",
     "output_type": "stream",
     "text": [
      "[Parallel(n_jobs=1)]: Using backend SequentialBackend with 1 concurrent workers.\n"
     ]
    },
    {
     "name": "stdout",
     "output_type": "stream",
     "text": [
      "[CV] END ................................ score: (test=0.985) total time=   2.7s\n"
     ]
    },
    {
     "name": "stderr",
     "output_type": "stream",
     "text": [
      "[Parallel(n_jobs=1)]: Done   1 out of   1 | elapsed:    2.7s remaining:    0.0s\n"
     ]
    },
    {
     "name": "stdout",
     "output_type": "stream",
     "text": [
      "[CV] END ................................ score: (test=0.989) total time=   4.0s\n"
     ]
    },
    {
     "name": "stderr",
     "output_type": "stream",
     "text": [
      "[Parallel(n_jobs=1)]: Done   2 out of   2 | elapsed:    6.8s remaining:    0.0s\n"
     ]
    },
    {
     "name": "stdout",
     "output_type": "stream",
     "text": [
      "[CV] END ................................ score: (test=0.993) total time=   3.9s\n",
      "Pontuação de : [98.5   98.875 99.25 ] %\n",
      "Acurácia de : 85.83333333333333 %\n"
     ]
    },
    {
     "name": "stderr",
     "output_type": "stream",
     "text": [
      "[Parallel(n_jobs=1)]: Done   3 out of   3 | elapsed:   10.9s finished\n"
     ]
    }
   ],
   "source": [
    "from sklearn.metrics import precision_score, recall_score\n",
    "from sklearn.linear_model import LogisticRegression\n",
    "from sklearn.model_selection import cross_val_score\n",
    "from sklearn.metrics import accuracy_score\n",
    "\n",
    "log_clf2 = LogisticRegression(max_iter=1000,solver=\"lbfgs\")\n",
    "\n",
    "log_clf2.fit(X_train_transformed,y_train)\n",
    "y_pred = log_clf2.predict(X_test_transform)\n",
    "\n",
    "\n",
    "print('Acurácia de :',(100* accuracy_score(y_test,y_pred)),'%')"
   ]
  },
  {
   "cell_type": "markdown",
   "id": "4d060bed",
   "metadata": {},
   "source": [
    "Vamos aprimorar o modelo"
   ]
  },
  {
   "cell_type": "code",
   "execution_count": 24,
   "id": "6a6e6762",
   "metadata": {},
   "outputs": [
    {
     "name": "stdout",
     "output_type": "stream",
     "text": [
      "Fitting 3 folds for each of 20 candidates, totalling 60 fits\n",
      "[CV] END ...............................C=0.8795513525322767; total time=   2.5s\n",
      "[CV] END ...............................C=0.8795513525322767; total time=   3.9s\n",
      "[CV] END ...............................C=0.8795513525322767; total time=   4.3s\n",
      "[CV] END ...............................C=0.1335982840122193; total time=   2.3s\n",
      "[CV] END ...............................C=0.1335982840122193; total time=   3.0s\n",
      "[CV] END ...............................C=0.1335982840122193; total time=   3.6s\n",
      "[CV] END ...............................C=0.6253164393621798; total time=   3.0s\n",
      "[CV] END ...............................C=0.6253164393621798; total time=   4.2s\n",
      "[CV] END ...............................C=0.6253164393621798; total time=   3.8s\n",
      "[CV] END ................................C=0.724181160848532; total time=   3.9s\n",
      "[CV] END ................................C=0.724181160848532; total time=   4.3s\n",
      "[CV] END ................................C=0.724181160848532; total time=   4.5s\n",
      "[CV] END ...............................C=0.7806852082450341; total time=   2.7s\n",
      "[CV] END ...............................C=0.7806852082450341; total time=   4.1s\n",
      "[CV] END ...............................C=0.7806852082450341; total time=   3.7s\n",
      "[CV] END ...............................C=0.9117340107177418; total time=   2.7s\n",
      "[CV] END ...............................C=0.9117340107177418; total time=   3.6s\n",
      "[CV] END ...............................C=0.9117340107177418; total time=   4.2s\n",
      "[CV] END ...............................C=0.9654567904268796; total time=   2.6s\n",
      "[CV] END ...............................C=0.9654567904268796; total time=   4.5s\n",
      "[CV] END ...............................C=0.9654567904268796; total time=   3.6s\n",
      "[CV] END ...............................C=0.4953307632206977; total time=   2.7s\n",
      "[CV] END ...............................C=0.4953307632206977; total time=   4.0s\n",
      "[CV] END ...............................C=0.4953307632206977; total time=   3.6s\n",
      "[CV] END ..............................C=0.13413510815575225; total time=   2.1s\n",
      "[CV] END ..............................C=0.13413510815575225; total time=   3.5s\n",
      "[CV] END ..............................C=0.13413510815575225; total time=   4.4s\n",
      "[CV] END ...............................C=0.8614939814783511; total time=   3.0s\n",
      "[CV] END ...............................C=0.8614939814783511; total time=   5.1s\n",
      "[CV] END ...............................C=0.8614939814783511; total time=   5.5s\n",
      "[CV] END ...............................C=0.6923992702276156; total time=   2.4s\n",
      "[CV] END ...............................C=0.6923992702276156; total time=   3.7s\n",
      "[CV] END ...............................C=0.6923992702276156; total time=   3.9s\n",
      "[CV] END ..............................C=0.37303450303870345; total time=   2.5s\n",
      "[CV] END ..............................C=0.37303450303870345; total time=   3.6s\n",
      "[CV] END ..............................C=0.37303450303870345; total time=   3.9s\n",
      "[CV] END ...............................C=0.3226530123504193; total time=   2.4s\n",
      "[CV] END ...............................C=0.3226530123504193; total time=   3.5s\n",
      "[CV] END ...............................C=0.3226530123504193; total time=   3.9s\n",
      "[CV] END ...............................C=0.8639185724513004; total time=   2.7s\n",
      "[CV] END ...............................C=0.8639185724513004; total time=   4.0s\n",
      "[CV] END ...............................C=0.8639185724513004; total time=   4.0s\n",
      "[CV] END .............................C=0.037854569023606614; total time=   2.0s\n",
      "[CV] END .............................C=0.037854569023606614; total time=   2.5s\n",
      "[CV] END .............................C=0.037854569023606614; total time=   3.5s\n",
      "[CV] END ..............................C=0.22875048358277728; total time=   2.1s\n",
      "[CV] END ..............................C=0.22875048358277728; total time=   2.9s\n",
      "[CV] END ..............................C=0.22875048358277728; total time=   3.5s\n",
      "[CV] END ..............................C=0.13881394946806713; total time=   2.0s\n",
      "[CV] END ..............................C=0.13881394946806713; total time=   3.1s\n",
      "[CV] END ..............................C=0.13881394946806713; total time=   3.5s\n",
      "[CV] END ................................C=0.511479777991057; total time=   2.8s\n",
      "[CV] END ................................C=0.511479777991057; total time=   3.6s\n",
      "[CV] END ................................C=0.511479777991057; total time=   3.4s\n",
      "[CV] END ...............................C=0.6939245397857283; total time=   2.5s\n",
      "[CV] END ...............................C=0.6939245397857283; total time=   4.3s\n",
      "[CV] END ...............................C=0.6939245397857283; total time=   3.9s\n",
      "[CV] END ...............................C=0.8769703793380885; total time=   2.7s\n",
      "[CV] END ...............................C=0.8769703793380885; total time=   3.5s\n",
      "[CV] END ...............................C=0.8769703793380885; total time=   3.9s\n"
     ]
    },
    {
     "data": {
      "text/plain": [
       "RandomizedSearchCV(cv=3, estimator=LogisticRegression(max_iter=1000), n_iter=20,\n",
       "                   param_distributions={'C': <scipy.stats._distn_infrastructure.rv_frozen object at 0x00000199E2C54670>},\n",
       "                   verbose=2)"
      ]
     },
     "execution_count": 24,
     "metadata": {},
     "output_type": "execute_result"
    }
   ],
   "source": [
    "from sklearn.model_selection import RandomizedSearchCV\n",
    "from scipy.stats import reciprocal, uniform\n",
    "\n",
    "param_distributions = {'C':uniform(0.01,1)}\n",
    "rnd_search_cv = RandomizedSearchCV(log_clf2, param_distributions, n_iter=20, verbose=2, cv=3)\n",
    "rnd_search_cv.fit(X_train_transformed,y_train)"
   ]
  },
  {
   "cell_type": "code",
   "execution_count": 25,
   "id": "0e1c53e3",
   "metadata": {},
   "outputs": [
    {
     "data": {
      "text/plain": [
       "LogisticRegression(C=0.37303450303870345, max_iter=1000)"
      ]
     },
     "execution_count": 25,
     "metadata": {},
     "output_type": "execute_result"
    }
   ],
   "source": [
    "rnd_search_cv.best_estimator_"
   ]
  },
  {
   "cell_type": "code",
   "execution_count": 27,
   "id": "da8a8da7",
   "metadata": {},
   "outputs": [
    {
     "name": "stdout",
     "output_type": "stream",
     "text": [
      "Acurácia de : 86.83333333333333 %\n"
     ]
    }
   ],
   "source": [
    "rnd_search_cv.best_estimator_.fit(X_train_transformed,y_train)\n",
    "y_pred = rnd_search_cv.best_estimator_.predict(X_test_transform)\n",
    "print('Acurácia de :',(100* accuracy_score(y_test,y_pred)),'%')"
   ]
  }
 ],
 "metadata": {
  "kernelspec": {
   "display_name": "Python 3 (ipykernel)",
   "language": "python",
   "name": "python3"
  },
  "language_info": {
   "codemirror_mode": {
    "name": "ipython",
    "version": 3
   },
   "file_extension": ".py",
   "mimetype": "text/x-python",
   "name": "python",
   "nbconvert_exporter": "python",
   "pygments_lexer": "ipython3",
   "version": "3.9.12"
  }
 },
 "nbformat": 4,
 "nbformat_minor": 5
}
